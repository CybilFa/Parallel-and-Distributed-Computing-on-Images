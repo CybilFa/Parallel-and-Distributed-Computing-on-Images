{
  "nbformat": 4,
  "nbformat_minor": 0,
  "metadata": {
    "colab": {
      "provenance": []
    },
    "kernelspec": {
      "name": "python3",
      "display_name": "Python 3"
    },
    "language_info": {
      "name": "python"
    }
  },
  "cells": [
    {
      "cell_type": "code",
      "execution_count": 1,
      "metadata": {
        "colab": {
          "base_uri": "https://localhost:8080/"
        },
        "id": "kLBAtO_RIt7N",
        "outputId": "e5fdeb9b-88b3-447f-f516-95e97a6103d5"
      },
      "outputs": [
        {
          "output_type": "stream",
          "name": "stdout",
          "text": [
            "Drive already mounted at /content/drive; to attempt to forcibly remount, call drive.mount(\"/content/drive\", force_remount=True).\n"
          ]
        }
      ],
      "source": [
        "import os, time\n",
        "from multiprocessing import Process, Manager\n",
        "from PIL import Image, ImageDraw, ImageFont\n",
        "from google.colab import drive\n",
        "\n",
        "drive.mount('/content/drive')\n",
        "\n",
        "\n",
        "input_base = \"/content/drive/MyDrive/Colab Notebooks/data_set\"\n",
        "output_base = \"/content/output_distributed\"\n",
        "os.makedirs(output_base, exist_ok=True)"
      ]
    },
    {
      "cell_type": "code",
      "source": [
        "def process_image(input_path, output_path):\n",
        "    try:\n",
        "        img = Image.open(input_path).convert(\"RGBA\")\n",
        "        img_resized = img.resize((128, 128))\n",
        "\n",
        "        watermark_text = \"© Cybil Fatima\"\n",
        "        try:\n",
        "            font = ImageFont.truetype(\"DejaVuSans-Bold.ttf\", 12)\n",
        "        except:\n",
        "            font = ImageFont.load_default()\n",
        "\n",
        "        overlay = Image.new('RGBA', img_resized.size, (255,255,255,0))\n",
        "        draw = ImageDraw.Draw(overlay)\n",
        "        bbox = draw.textbbox((0,0), watermark_text, font=font)\n",
        "        textwidth = bbox[2] - bbox[0]\n",
        "        textheight = bbox[3] - bbox[1]\n",
        "        x = img_resized.width - textwidth - 6\n",
        "        y = img_resized.height - textheight - 6\n",
        "        draw.text((x, y), watermark_text, font=font, fill=(255,255,255,180))\n",
        "\n",
        "        watermarked = Image.alpha_composite(img_resized, overlay).convert(\"RGB\")\n",
        "        os.makedirs(os.path.dirname(output_path), exist_ok=True)\n",
        "        watermarked.save(output_path)\n",
        "    except Exception as e:\n",
        "        print(f\"Error: {e}\")\n",
        "\n",
        "\n",
        "def node_worker(node_id, paths_subset, timings):\n",
        "    start = time.time()\n",
        "    for input_path, output_path in paths_subset:\n",
        "        process_image(input_path, output_path)\n",
        "    end = time.time()\n",
        "    timings[node_id] = (len(paths_subset), end - start)\n",
        "\n",
        "def get_all_paths():\n",
        "    all_paths = []\n",
        "    for root, _, files in os.walk(input_base):\n",
        "        for f in files:\n",
        "            if f.lower().endswith(('.png', '.jpg', '.jpeg')):\n",
        "                rel = os.path.relpath(root, input_base)\n",
        "                out_folder = os.path.join(output_base, rel)\n",
        "                os.makedirs(out_folder, exist_ok=True)\n",
        "                in_path = os.path.join(root, f)\n",
        "                out_path = os.path.join(out_folder, f)\n",
        "                all_paths.append((in_path, out_path))\n",
        "    return all_paths\n",
        "\n",
        "if __name__ == \"__main__\":\n",
        "    all_paths = get_all_paths()\n",
        "    total = len(all_paths)\n",
        "    half = total // 2\n",
        "\n",
        "    node1_paths = all_paths[:half]\n",
        "    node2_paths = all_paths[half:]\n",
        "\n",
        "    manager = Manager()\n",
        "    timings = manager.dict()\n",
        "\n",
        "    start_total = time.time()\n",
        "\n",
        "    p1 = Process(target=node_worker, args=(1, node1_paths, timings))\n",
        "    p2 = Process(target=node_worker, args=(2, node2_paths, timings))\n",
        "\n",
        "    p1.start()\n",
        "    p2.start()\n",
        "    p1.join()\n",
        "    p2.join()\n",
        "\n",
        "    end_total = time.time()\n",
        "\n",
        "    node1_imgs, node1_time = timings[1]\n",
        "    node2_imgs, node2_time = timings[2]\n",
        "\n",
        "    print(f\"Node 1 processed {node1_imgs} images in {node1_time:.2f}s\")\n",
        "    print(f\"Node 2 processed {node2_imgs} images in {node2_time:.2f}s\")\n",
        "\n",
        "    total_time = end_total - start_total\n",
        "    print(f\"Total distributed time: {total_time:.2f}s\")\n",
        "\n",
        "    sequential_time = 18.24\n",
        "    efficiency = sequential_time / total_time\n",
        "    print(f\"Efficiency: {efficiency:.2f}x over sequential\")"
      ],
      "metadata": {
        "colab": {
          "base_uri": "https://localhost:8080/"
        },
        "id": "0A7lf7oiKLJB",
        "outputId": "3510d3fe-ca27-4730-fe20-7caad3f57dff"
      },
      "execution_count": 2,
      "outputs": [
        {
          "output_type": "stream",
          "name": "stdout",
          "text": [
            "Node 1 processed 47 images in 18.41s\n",
            "Node 2 processed 47 images in 31.40s\n",
            "Total distributed time: 31.43s\n",
            "Efficiency: 0.58x over sequential\n"
          ]
        }
      ]
    }
  ]
}