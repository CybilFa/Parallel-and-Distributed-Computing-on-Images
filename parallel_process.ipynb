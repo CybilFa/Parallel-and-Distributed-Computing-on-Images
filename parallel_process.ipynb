{
  "nbformat": 4,
  "nbformat_minor": 0,
  "metadata": {
    "colab": {
      "provenance": []
    },
    "kernelspec": {
      "name": "python3",
      "display_name": "Python 3"
    },
    "language_info": {
      "name": "python"
    }
  },
  "cells": [
    {
      "cell_type": "code",
      "execution_count": 1,
      "metadata": {
        "colab": {
          "base_uri": "https://localhost:8080/"
        },
        "id": "TcHB2-rYG5FF",
        "outputId": "c10e54c0-d9bd-4fe0-adfc-52116866e71b"
      },
      "outputs": [
        {
          "output_type": "stream",
          "name": "stdout",
          "text": [
            "Drive already mounted at /content/drive; to attempt to forcibly remount, call drive.mount(\"/content/drive\", force_remount=True).\n"
          ]
        }
      ],
      "source": [
        "import os, time, concurrent.futures\n",
        "from PIL import Image, ImageDraw, ImageFont\n",
        "from google.colab import drive\n",
        "import pandas as pd\n",
        "\n",
        "drive.mount('/content/drive')\n",
        "\n",
        "input_base = \"/content/drive/MyDrive/Colab Notebooks/data_set\"\n",
        "output_base = \"/content/output_parallel\"\n",
        "os.makedirs(output_base, exist_ok=True)"
      ]
    },
    {
      "cell_type": "code",
      "source": [
        "def process_image(input_output_paths):\n",
        "    input_path, output_path = input_output_paths\n",
        "    try:\n",
        "        img = Image.open(input_path).convert(\"RGBA\")\n",
        "        img_resized = img.resize((128, 128))\n",
        "\n",
        "        watermark_text = \"© Cybil \"\n",
        "        try:\n",
        "            font = ImageFont.truetype(\"DejaVuSans-Bold.ttf\", 12)\n",
        "        except:\n",
        "            font = ImageFont.load_default()\n",
        "\n",
        "        overlay = Image.new('RGBA', img_resized.size, (255,255,255,0))\n",
        "        draw = ImageDraw.Draw(overlay)\n",
        "\n",
        "        bbox = draw.textbbox((0,0), watermark_text, font=font)\n",
        "        textwidth = bbox[2] - bbox[0]\n",
        "        textheight = bbox[3] - bbox[1]\n",
        "        x = img_resized.width - textwidth - 6\n",
        "        y = img_resized.height - textheight - 6\n",
        "\n",
        "        draw.text((x, y), watermark_text, font=font, fill=(255,255,255,180))\n",
        "        watermarked = Image.alpha_composite(img_resized, overlay).convert(\"RGB\")\n",
        "        watermarked.save(output_path)\n",
        "    except Exception as e:\n",
        "        print(f\"Error processing {input_path}: {e}\")\n",
        "\n",
        "def get_image_paths():\n",
        "    paths = []\n",
        "    for root, _, files in os.walk(input_base):\n",
        "        for file in files:\n",
        "            if file.lower().endswith(('.png', '.jpg', '.jpeg')):\n",
        "                input_path = os.path.join(root, file)\n",
        "                rel_path = os.path.relpath(root, input_base)\n",
        "                output_folder = os.path.join(output_base, rel_path)\n",
        "                os.makedirs(output_folder, exist_ok=True)\n",
        "                output_path = os.path.join(output_folder, file)\n",
        "                paths.append((input_path, output_path))\n",
        "    return paths\n",
        "\n",
        "\n",
        "def run_parallel(num_workers, paths):\n",
        "    start = time.time()\n",
        "    with concurrent.futures.ProcessPoolExecutor(max_workers=num_workers) as executor:\n",
        "        executor.map(process_image, paths)\n",
        "    end = time.time()\n",
        "    return end - start\n",
        "\n",
        "paths = get_image_paths()\n",
        "results = []\n",
        "\n",
        "for workers in [1, 2, 4, 8]:\n",
        "    t = run_parallel(workers, paths)\n",
        "    results.append({\"Workers\": workers, \"Time (s)\": t})\n",
        "    print(f\"Completed with {workers} workers in {t:.2f} seconds\")\n",
        "\n",
        "\n",
        "base_time = results[0][\"Time (s)\"]\n",
        "for r in results:\n",
        "    r[\"Speedup\"] = round(base_time / r[\"Time (s)\"], 2)\n",
        "\n",
        "df = pd.DataFrame(results)\n",
        "print(\"\\nSpeedup Table:\\n\")\n",
        "print(df.to_string(index=False))"
      ],
      "metadata": {
        "colab": {
          "base_uri": "https://localhost:8080/"
        },
        "id": "1SIB3W61H3r-",
        "outputId": "23aae499-1abe-4e79-c619-90654d3e5da7"
      },
      "execution_count": 2,
      "outputs": [
        {
          "output_type": "stream",
          "name": "stdout",
          "text": [
            "Completed with 1 workers in 34.64 seconds\n",
            "Completed with 2 workers in 0.66 seconds\n",
            "Completed with 4 workers in 0.58 seconds\n",
            "Completed with 8 workers in 0.62 seconds\n",
            "\n",
            "Speedup Table:\n",
            "\n",
            " Workers  Time (s)  Speedup\n",
            "       1 34.635803     1.00\n",
            "       2  0.663649    52.19\n",
            "       4  0.579762    59.74\n",
            "       8  0.620667    55.80\n"
          ]
        }
      ]
    }
  ]
}